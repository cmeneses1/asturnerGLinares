{
 "cells": [
  {
   "cell_type": "markdown",
   "id": "interior-settle",
   "metadata": {},
   "source": [
    "# Procesar el txt con spacy-stanza y guardar en un fichero binario: A_Procesar_Guardar.ipynb\n",
    "Este es el primer *notebook* para procesar el censo de linajes asturianos de García Linares. Si dispone del censo en txt, escriba la dirección al mismo en la variable `direcciontxt`. De lo contrario, continúe usando el pequeño extracto del censo guardado en la dirección `./Documentos/PadronOCRPrueba.txt`.\n",
    "\n",
    "En este *notebook* de *Python* vamos a realizar las siguientes tareas:\n",
    "- Cargamos un documento txt. El `txt` se encuentra en la dirección `direcciontxt`.\n",
    "- Cargamos los módulos `spacy` y `spacy-stanza`. El primero nos ofrece toda la funcionalidad y facilidad de tratamiento de Spacy. El segundo brinda toda la exactitud en los resultados del procesamiento con Stanza. Recuerde que debe tener instalado las librerías de Stanza, desarrollado por la Universidad de Stanford.\n",
    "- Guardamos el documento procesado como un fichero de datos (documento binario). El binario lo guardaremos en la dirección `direccionbin`. De esta forma no tenemos que procesar el documento cada vez que abrimos *Jupyter Lab*."
   ]
  },
  {
   "cell_type": "markdown",
   "id": "northern-shower",
   "metadata": {},
   "source": [
    "## Importamos las librerías a usar\n",
    "Lo haremos siempre al comienzo de cada *notebook*."
   ]
  },
  {
   "cell_type": "code",
   "execution_count": 1,
   "id": "stainless-increase",
   "metadata": {},
   "outputs": [],
   "source": [
    "import spacy\n",
    "import spacy_stanza\n",
    "from spacy.tokens import Doc\n",
    "from spacy.tokens import DocBin\n",
    "\n",
    "# Ejecutamos nuestras funciones creadas para la ocasión. Están en el notebook Z_Funciones.ipynb.\n",
    "%run './Z_Funciones.ipynb'"
   ]
  },
  {
   "cell_type": "markdown",
   "id": "mathematical-mixer",
   "metadata": {},
   "source": [
    "## Especificamos las direcciones y configuración del pipeline\n",
    "Esta sección es la que podemos personalizar o modificar a conveniencia según el archivo que queramos procesar, dónde lo queremos guardar, etc. Contiene los siguientes datos:\n",
    "- `direcciontxt`: es la dirección del archivo de txt que vamos a procesar con Spacy-Stanza. Nota: cada línea del txt debe ser una frase completa limitada por un punto.\n",
    "- `direcciontxtprueba`: es la dirección de una pequeña parte archivo de txt que vamos a procesar con Spacy-Stanza. Es un archivo más pequeño que podemos usar para pruebas. Nota: cada línea del txt debe ser una frase completa limitada por un punto.\n",
    "- `direccionbin`: es la dirección donde vamos a guardar el archivo procesado por Spacy-Stanza. Es un archivo binario.\n",
    "- `nlpconfig`: es la variable que determina las características del pipeline de procesamiento de spacy-stanza. Por ejemplo, contiene el idioma, cuántas frases procesamos de una sola vez, etc."
   ]
  },
  {
   "cell_type": "code",
   "execution_count": 2,
   "id": "documented-drunk",
   "metadata": {},
   "outputs": [],
   "source": [
    "direcciontxt = './Documentos/PadronOCRPrueba.txt'\n",
    "direccionbin = './Documentos/Padronbin'\n",
    "# direcciontxt = './Privado/PadronOCR.txt'\n",
    "# direccionbin = './Privado/PadronbinTOTAL'\n",
    "nlpconfig = {\n",
    "    'name': 'es', # Language code for the language to build the Pipeline in\n",
    "    'tokenize_batch_size': 32, # Enseguida vamos a cambiarlo por la cantidad máxima de palabras que alberga una frase en nuestro documento.\n",
    "    'ner_batch_size': 32 # Enseguida vamos a cambiarlo por la cantidad máxima de palabras que alberga una frase en nuestro documento.\n",
    "}"
   ]
  },
  {
   "cell_type": "markdown",
   "id": "colonial-venezuela",
   "metadata": {},
   "source": [
    "## Cargamos el archivo de texto\n",
    "Vamos a convertir el archivo de texto a una variable de Python que Spacy-Stanza pueda procesar. La variable se llamará `lineas` porque es una lista que contiene cada una de las lineas del txt."
   ]
  },
  {
   "cell_type": "code",
   "execution_count": 3,
   "id": "painted-heater",
   "metadata": {},
   "outputs": [
    {
     "name": "stdout",
     "output_type": "stream",
     "text": [
      "['PARROQUIA DE ERIAS', '', 'Tomo 2. Año 1698. Folios 10 v.* al 12.', '', 'Empadronadores locales:', '', 'Por el estado de hijosdalgo: Francisco López de Herías, vecino del lugar de Herías.', '', 'Por el estado general de labradores: Pedro Díaz, vecino del lugar de Sarzol.', '', 'ERIAS', '', '253. «Primeramente el Licenciado Alonsso Lopez de Erias, clérigo Presbítero, ijodalgo notorio.»', '', '254. «Francisco Lopez de Erias, empadronador deste Padron por los ijosdalgo, lo puso el dicho Pedro Diaz, empadronador por el estado pechero, por ijodalgo notorio y Juan de Herias su ijo lo mismo.»']\n"
     ]
    }
   ],
   "source": [
    "# Cargamos el texto\n",
    "with open(direcciontxt, encoding='utf-8') as f:\n",
    "    \n",
    "    # Creamos la variable 'lineas' como una lista vacía que vamos rellenando.\n",
    "    lineas = []\n",
    "    for linea in f:\n",
    "        lineas.append(linea.strip())\n",
    "\n",
    "# Mostremos las primeras 15 líneas.\n",
    "print(lineas[0:15])"
   ]
  },
  {
   "cell_type": "markdown",
   "id": "seeing-globe",
   "metadata": {},
   "source": [
    "Vamos a corregir el número máximo de palabras que el pipeline para resolver el NER. Vamos a hacer que sea igual al número máximo de palabras que tienen las frases de nuestro documento, pero aumentado un 25% para tener en cuenta los tokens de puntuación. Usaremos la función `cuenta_palabras_max`."
   ]
  },
  {
   "cell_type": "code",
   "execution_count": 4,
   "id": "studied-integral",
   "metadata": {},
   "outputs": [
    {
     "name": "stdout",
     "output_type": "stream",
     "text": [
      "El número de palabras máximas es 33. \n",
      "Añadiendo un 25%, tomaremos el número 41.\n"
     ]
    }
   ],
   "source": [
    "# Contamos las palabras y corregimos el diccionario nlpconfig\n",
    "numero1 = cuenta_palabras_max(direcciontxt)\n",
    "numero2 = int(numero1 * 1.25)\n",
    "\n",
    "nlpconfig['ner_batch_size'] = numero2\n",
    "nlpconfig['tokenize_batch_size'] = numero2\n",
    "\n",
    "print(\"El número de palabras máximas es\", str(numero1) + \".\", \"\\nAñadiendo un 25%, tomaremos el número\", str(numero2) + \".\")"
   ]
  },
  {
   "cell_type": "markdown",
   "id": "massive-spyware",
   "metadata": {},
   "source": [
    "## Cargamos el pipeline de procesamiento de spacy-stanza\n",
    "\n",
    "Creamos el pipeline (la función que procesa nuestro archivo de análisis)."
   ]
  },
  {
   "cell_type": "code",
   "execution_count": 5,
   "id": "partial-china",
   "metadata": {},
   "outputs": [
    {
     "name": "stderr",
     "output_type": "stream",
     "text": [
      "2021-08-27 09:19:16 INFO: Loading these models for language: es (Spanish):\n",
      "=======================\n",
      "| Processor | Package |\n",
      "-----------------------\n",
      "| tokenize  | ancora  |\n",
      "| mwt       | ancora  |\n",
      "| pos       | ancora  |\n",
      "| lemma     | ancora  |\n",
      "| depparse  | ancora  |\n",
      "| ner       | conll02 |\n",
      "=======================\n",
      "\n",
      "/home/carlos-eduardo/anaconda3/envs/PMLatest/lib/python3.8/site-packages/torch/cuda/__init__.py:52: UserWarning: CUDA initialization: Found no NVIDIA driver on your system. Please check that you have an NVIDIA GPU and installed a driver from http://www.nvidia.com/Download/index.aspx (Triggered internally at  /pytorch/c10/cuda/CUDAFunctions.cpp:100.)\n",
      "  return torch._C._cuda_getDeviceCount() > 0\n",
      "2021-08-27 09:19:16 INFO: Use device: cpu\n",
      "2021-08-27 09:19:16 INFO: Loading: tokenize\n",
      "2021-08-27 09:19:17 INFO: Loading: mwt\n",
      "2021-08-27 09:19:17 INFO: Loading: pos\n",
      "2021-08-27 09:19:19 INFO: Loading: lemma\n",
      "2021-08-27 09:19:19 INFO: Loading: depparse\n",
      "2021-08-27 09:19:21 INFO: Loading: ner\n",
      "2021-08-27 09:19:29 INFO: Done loading processors!\n"
     ]
    }
   ],
   "source": [
    "#Cargamos el pipeline de spacy-stanza para resolver el problema NER.\n",
    "nlp = spacy_stanza.load_pipeline(**nlpconfig)"
   ]
  },
  {
   "cell_type": "markdown",
   "id": "western-uganda",
   "metadata": {},
   "source": [
    "## Aplicamos el pipeline de spacy-stanza\n",
    "Aplicamos el pipeline a nuestro modelo: \n",
    "- En primer lugar, `nlp.pipe` crea un iterable de frases a ser procesadas una a una.\n",
    "- Al ejecutar la orden `list`, no solo estamos convirtiendo el iterable en una lista, sino que también se aplica, frase a frase, la función `nlp`. \n",
    "- Finalmente, unimos cada frase en un solo documento de SpaCy llamado `doc`."
   ]
  },
  {
   "cell_type": "code",
   "execution_count": 6,
   "id": "aboriginal-employment",
   "metadata": {},
   "outputs": [],
   "source": [
    "doc = Doc.from_docs(list(nlp.pipe(lineas)))"
   ]
  },
  {
   "cell_type": "markdown",
   "id": "identical-poultry",
   "metadata": {},
   "source": [
    "# Serializamos\n",
    "La palabra serializar se refiere a guardar nuestro documento procesado `doc` a un archivo binario que se pueda alojar en un disco duro. Así no tenemos que procesar el documento de texto cada vez que abrimos *Jupyter Lab*. Guardamos el binario en la dirección `direccionbin`. Para ello usaremos la función `serializacion` definida en el archivo *funciones_Spacy.ipynb*."
   ]
  },
  {
   "cell_type": "code",
   "execution_count": 7,
   "id": "ambient-feelings",
   "metadata": {},
   "outputs": [
    {
     "name": "stdout",
     "output_type": "stream",
     "text": [
      "Nota: esta función requiere los siguientes módulo o funciones:\n",
      " import spacy\n",
      " from spacy.tokens import DocBin\n",
      " Si no los usa se producirá un error.\n"
     ]
    }
   ],
   "source": [
    "# Serializamos\n",
    "serializacion(doc, direccionbin)"
   ]
  },
  {
   "cell_type": "code",
   "execution_count": null,
   "id": "competitive-recorder",
   "metadata": {},
   "outputs": [],
   "source": []
  }
 ],
 "metadata": {
  "kernelspec": {
   "display_name": "Python 3",
   "language": "python",
   "name": "python3"
  },
  "language_info": {
   "codemirror_mode": {
    "name": "ipython",
    "version": 3
   },
   "file_extension": ".py",
   "mimetype": "text/x-python",
   "name": "python",
   "nbconvert_exporter": "python",
   "pygments_lexer": "ipython3",
   "version": "3.8.6"
  }
 },
 "nbformat": 4,
 "nbformat_minor": 5
}
